{
 "cells": [
  {
   "cell_type": "code",
   "execution_count": 1,
   "metadata": {},
   "outputs": [
    {
     "data": {
      "text/plain": [
       "['/Users/gpatient/anaconda/lib/python3.6/site-packages/requests']"
      ]
     },
     "execution_count": 1,
     "metadata": {},
     "output_type": "execute_result"
    }
   ],
   "source": [
    "from __future__ import print_function, division\n",
    "from bs4 import BeautifulSoup\n",
    "import requests\n",
    "import pandas as pd\n",
    "import numpy as np\n",
    "import re\n",
    "import sys\n",
    "import pickle as pkl\n",
    "\n",
    "requests.__path__"
   ]
  },
  {
   "cell_type": "code",
   "execution_count": 2,
   "metadata": {
    "collapsed": true
   },
   "outputs": [],
   "source": [
    "url = 'http://www.imdb.com/robots.txt'\n",
    "\n",
    "response = requests.get(url)"
   ]
  },
  {
   "cell_type": "code",
   "execution_count": 3,
   "metadata": {},
   "outputs": [
    {
     "data": {
      "text/plain": [
       "200"
      ]
     },
     "execution_count": 3,
     "metadata": {},
     "output_type": "execute_result"
    }
   ],
   "source": [
    "response.status_code"
   ]
  },
  {
   "cell_type": "code",
   "execution_count": 4,
   "metadata": {
    "scrolled": true
   },
   "outputs": [
    {
     "name": "stdout",
     "output_type": "stream",
     "text": [
      "# robots.txt for IMDb properties\n",
      "#\n",
      "#\n",
      "# Limit ScoutJet's crawl rate\n",
      "#\n",
      "User-agent: ScoutJet\n",
      "Crawl-delay: 3\n",
      "#\n",
      "#\n",
      "# Yahoo!\n",
      "User-agent: Slurp\n",
      "Crawl-delay: .1\n",
      "Disallow: /tvschedule\n",
      "Disallow: /ActorSearch\n",
      "Disallow: /ActressSearch\n",
      "Disallow: /AddRecommendation\n",
      "Disallow: /ads/\n",
      "Disallow: /AlternateVersions\n",
      "Disallow: /AName\n",
      "Disallow: /Awards\n",
      "Disallow: /BAgent\n",
      "Disallow: /Ballot/\n",
      "Disallow: /BornInYear\n",
      "Disallow: /BornWhere\n",
      "Disallow: /BPublicity\n",
      "Disallow: /BQuotes\n",
      "Disallow: /BTrivia\n",
      "Disallow: /BusinessThisDay\n",
      "Disallow: /BWorks\n",
      "Disallow: /careers\n",
      "Disallow: /help/show_leaf?careeratimdb\n",
      "Disallow: /CommentsAuthor\n",
      "Disallow: /CommentsEnter\n",
      "Disallow: /CommentsIndex\n",
      "Disallow: /Companies\n",
      "Disallow: /CrazyCredits\n",
      "Disallow: /Credits\n",
      "Disallow: /DiedInYear\n",
      "Disallow: /DiedWhere\n",
      "Disallow: /DVD\n",
      "Disallow: /ExciteTitle\n",
      "Disallow: /Find\n",
      "Disallow: /FName\n",
      "Disallow: /GName\n",
      "Disallow: /Guests\n",
      "Disallow: /harvest_me\n",
      "Disallow: /HelpPage\n",
      "Disallow: /Icons/\n",
      "Disallow: /JointVentures\n",
      "Disallow: /Laserdisc\n",
      "Disallow: /List\n",
      "Disallow: /Literature\n",
      "Disallow: /Locations\n",
      "Disallow: /LocationTree\n",
      "Disallow: /Lookup\n",
      "Disallow: /M/\n",
      "Disallow: /Maltin\n",
      "Disallow: /MarriedInYear\n",
      "Disallow: /MetaSearch\n",
      "Disallow: /Mlinks\n",
      "Disallow: /More\n",
      "Disallow: /Movies\n",
      "Disallow: /Movies/\n",
      "Disallow: /MyMovies\n",
      "Disallow: /mymovies/\n",
      "Disallow: /name_pick_n_mix\n",
      "Disallow: /Nsearch\n",
      "Disallow: /NUrls\n",
      "Disallow: /OnThisDay\n",
      "Disallow: /Ontv\n",
      "Disallow: /OnTV\n",
      "Disallow: /Overlap\n",
      "Disallow: /Pawards\n",
      "Disallow: /pick_n_mix\n",
      "Disallow: /PName\n",
      "Disallow: /Posters\n",
      "Disallow: /prepare_data\n",
      "Disallow: /Psales\n",
      "Disallow: /Quiz\n",
      "Disallow: /r/\n",
      "Disallow: /ra/\n",
      "Disallow: /Ratings\n",
      "Disallow: /rd/\n",
      "Disallow: /Recommendations\n",
      "Disallow: /register\n",
      "Disallow: /ReleaseDates\n",
      "Disallow: /ReleasedInYear\n",
      "Disallow: /Reviews\n",
      "Disallow: /rg/\n",
      "Disallow: /ri/\n",
      "Disallow: /RName\n",
      "Disallow: /Sales\n",
      "Disallow: /SearchAwards\n",
      "Disallow: /SearchBios\n",
      "Disallow: /SearchBusiness\n",
      "Disallow: /SearchCrazy\n",
      "Disallow: /SearchDVD\n",
      "Disallow: /SearchGoofs\n",
      "Disallow: /SearchLaserdisc\n",
      "Disallow: /SearchLiterature\n",
      "Disallow: /SearchPlots\n",
      "Disallow: /SearchPlotWriters\n",
      "Disallow: /SearchQuotes\n",
      "Disallow: /SearchRatios\n",
      "Disallow: /SearchSongs\n",
      "Disallow: /SearchTaglines\n",
      "Disallow: /SearchTechnical\n",
      "Disallow: /SearchTrivia\n",
      "Disallow: /SearchVersions\n",
      "Disallow: /ShowAll\n",
      "Disallow: /Showing\n",
      "Disallow: /SName\n",
      "Disallow: /Soundtracks\n",
      "Disallow: /Taglines\n",
      "Disallow: /Tawards\n",
      "Disallow: /Technical\n",
      "Disallow: /tiger_redirect\n",
      "Disallow: /Title/ASIN\n",
      "Disallow: /TitleBrowse\n",
      "Disallow: /Trailers\n",
      "Disallow: /Tsearch\n",
      "Disallow: /TUrls\n",
      "Disallow: /VName\n",
      "Disallow: /Vote\n",
      "Disallow: /WorkedWith\n",
      "Disallow: /updates\n",
      "Disallow: /board\n",
      "Disallow: /boards\n",
      "Disallow: /name/*/board\n",
      "Disallow: /title/*/board\n",
      "Disallow: /character/*/select-*\n",
      "Disallow: /character/*/update\n",
      "#\n",
      "# Everyone else\n",
      "#\n",
      "User-agent: *\n",
      "Disallow: /tvschedule\n",
      "Disallow: /ActorSearch\n",
      "Disallow: /ActressSearch\n",
      "Disallow: /AddRecommendation\n",
      "Disallow: /ads/\n",
      "Disallow: /AlternateVersions\n",
      "Disallow: /AName\n",
      "Disallow: /Awards\n",
      "Disallow: /BAgent\n",
      "Disallow: /Ballot/\n",
      "Disallow: /BornInYear\n",
      "Disallow: /BornWhere\n",
      "Disallow: /BPublicity\n",
      "Disallow: /BQuotes\n",
      "Disallow: /BTrivia\n",
      "Disallow: /BusinessThisDay\n",
      "Disallow: /BWorks\n",
      "Disallow: /careers\n",
      "Disallow: /help/show_leaf?careeratimdb\n",
      "Disallow: /CommentsAuthor\n",
      "Disallow: /CommentsEnter\n",
      "Disallow: /CommentsIndex\n",
      "Disallow: /Companies\n",
      "Disallow: /CrazyCredits\n",
      "Disallow: /Credits\n",
      "Disallow: /DiedInYear\n",
      "Disallow: /DiedWhere\n",
      "Disallow: /DVD\n",
      "Disallow: /ExciteTitle\n",
      "Disallow: /Find\n",
      "Disallow: /FName\n",
      "Disallow: /GName\n",
      "Disallow: /Guests\n",
      "Disallow: /harvest_me\n",
      "Disallow: /HelpPage\n",
      "Disallow: /Icons/\n",
      "Disallow: /JointVentures\n",
      "Disallow: /Laserdisc\n",
      "Disallow: /List\n",
      "Disallow: /Literature\n",
      "Disallow: /Locations\n",
      "Disallow: /LocationTree\n",
      "Disallow: /Lookup\n",
      "Disallow: /M/\n",
      "Disallow: /Maltin\n",
      "Disallow: /MarriedInYear\n",
      "Disallow: /MetaSearch\n",
      "Disallow: /Mlinks\n",
      "Disallow: /More\n",
      "Disallow: /Movies\n",
      "Disallow: /Movies/\n",
      "Disallow: /MyMovies\n",
      "Disallow: /mymovies/\n",
      "Disallow: /name_pick_n_mix\n",
      "Disallow: /Nsearch\n",
      "Disallow: /NUrls\n",
      "Disallow: /OnThisDay\n",
      "Disallow: /Ontv\n",
      "Disallow: /OnTV\n",
      "Disallow: /Overlap\n",
      "Disallow: /Pawards\n",
      "Disallow: /pick_n_mix\n",
      "Disallow: /PName\n",
      "Disallow: /Posters\n",
      "Disallow: /prepare_data\n",
      "Disallow: /Psales\n",
      "Disallow: /Quiz\n",
      "Disallow: /r/\n",
      "Disallow: /ra/\n",
      "Disallow: /Ratings\n",
      "Disallow: /rd/\n",
      "Disallow: /Recommendations\n",
      "Disallow: /register\n",
      "Disallow: /ReleaseDates\n",
      "Disallow: /ReleasedInYear\n",
      "Disallow: /Reviews\n",
      "Disallow: /rg/\n",
      "Disallow: /ri/\n",
      "Disallow: /RName\n",
      "Disallow: /Sales\n",
      "Disallow: /SearchAwards\n",
      "Disallow: /SearchBios\n",
      "Disallow: /SearchBusiness\n",
      "Disallow: /SearchCrazy\n",
      "Disallow: /SearchDVD\n",
      "Disallow: /SearchGoofs\n",
      "Disallow: /SearchLaserdisc\n",
      "Disallow: /SearchLiterature\n",
      "Disallow: /SearchPlots\n",
      "Disallow: /SearchPlotWriters\n",
      "Disallow: /SearchQuotes\n",
      "Disallow: /SearchRatios\n",
      "Disallow: /SearchSongs\n",
      "Disallow: /SearchTaglines\n",
      "Disallow: /SearchTechnical\n",
      "Disallow: /SearchTrivia\n",
      "Disallow: /SearchVersions\n",
      "Disallow: /ShowAll\n",
      "Disallow: /Showing\n",
      "Disallow: /SName\n",
      "Disallow: /Soundtracks\n",
      "Disallow: /Taglines\n",
      "Disallow: /Tawards\n",
      "Disallow: /Technical\n",
      "Disallow: /tiger_redirect\n",
      "Disallow: /Title/ASIN\n",
      "Disallow: /TitleBrowse\n",
      "Disallow: /Trailers\n",
      "Disallow: /Tsearch\n",
      "Disallow: /TUrls\n",
      "Disallow: /VName\n",
      "Disallow: /Vote\n",
      "Disallow: /WorkedWith\n",
      "Disallow: /updates\n",
      "Disallow: /board\n",
      "Disallow: /boards\n",
      "Disallow: /name/*/board\n",
      "Disallow: /title/*/board\n",
      "Disallow: /user/*/boards\n",
      "Disallow: /user/*/boards/\n",
      "Disallow: /lists/tt*\n",
      "Disallow: /lists/nm*\n",
      "Disallow: /character/*/select-*\n",
      "Disallow: /character/*/update\n",
      "#\n",
      "#\n",
      "Sitemap: http://www.imdb.com/sitemap_US_index.xml.gz\n"
     ]
    }
   ],
   "source": [
    "print(response.text)"
   ]
  },
  {
   "cell_type": "code",
   "execution_count": 5,
   "metadata": {},
   "outputs": [
    {
     "data": {
      "text/plain": [
       "True"
      ]
     },
     "execution_count": 5,
     "metadata": {},
     "output_type": "execute_result"
    }
   ],
   "source": [
    "from urllib import robotparser\n",
    "rp = robotparser.RobotFileParser()\n",
    "rp.set_url('http://www.imdb.com/robots.txt')\n",
    "rp.read()\n",
    "#rp.can_fetch('*','http://www.imdb.com/')\n",
    "rp.can_fetch('*','http://www.imdb.com/search')"
   ]
  },
  {
   "cell_type": "code",
   "execution_count": 6,
   "metadata": {
    "collapsed": true
   },
   "outputs": [],
   "source": [
    "def good_url(url):\n",
    "    if not rp.can_fetch('*',url):\n",
    "        print('robots not allowed here: {}\\n'.format(url))\n",
    "        return False\n",
    "    return True"
   ]
  },
  {
   "cell_type": "code",
   "execution_count": 7,
   "metadata": {
    "collapsed": true,
    "scrolled": true
   },
   "outputs": [],
   "source": [
    "scrape_page=(\n",
    "        'http://www.imdb.com/search/title?count=250&sort=num_votes,desc&title_type'\n",
    "        '=feature&user_rating=1.1,2.0&view=simple'\n",
    "    )\n",
    "scrape_soup=BeautifulSoup(requests.get(scrape_page).text,'lxml')\n",
    "#scrape_soup.prettify"
   ]
  },
  {
   "cell_type": "code",
   "execution_count": 8,
   "metadata": {
    "collapsed": true
   },
   "outputs": [],
   "source": [
    "#scrape list of urls\n",
    "\n",
    "#this takes awhile, change pickled to False to run\n",
    "url_list=list()\n",
    "pickled=False\n",
    "if pickled:\n",
    "    with open('movie_urls.pkl', 'rb') as picklefile:\n",
    "        url_list=pkl.load(picklefile)\n",
    "assert(not pickled)\n",
    "\n",
    "for i in range(1,10):\n",
    "    #search by rating range, set to check just 1-2 until \n",
    "    low,high=i+0.1,i+1.0\n",
    "    scrape_page=(\n",
    "        'http://www.imdb.com/search/title?count=250&sort=num_votes,desc&title_type'\n",
    "        '=feature&user_rating={},{}&view=simple'.format(low,high)\n",
    "    )\n",
    "    if not good_url(scrape_page): continue\n",
    "    scrape_soup=BeautifulSoup(requests.get(scrape_page).text,'lxml')\n",
    "    movie_list=scrape_soup.find_all(class_='lister-item-header')\n",
    "    for element in movie_list:\n",
    "        if element.find('a'):\n",
    "            cur_url='http://www.imdb.com'+element.find('a')['href']\n",
    "            if good_url(cur_url):\n",
    "                url_list.append('http://www.imdb.com'+element.find('a')['href'])\n",
    "        else:\n",
    "            print('ERROR: URL MISSING')\n",
    "    #print(scrape_page)\n",
    "    #print(url_list)\n",
    "    \n",
    "with open('movie_urls.pkl', 'wb') as picklefile:\n",
    "    pkl.dump(url_list, picklefile)\n",
    "    "
   ]
  },
  {
   "cell_type": "code",
   "execution_count": 46,
   "metadata": {
    "scrolled": true
   },
   "outputs": [
    {
     "name": "stdout",
     "output_type": "stream",
     "text": [
      "-rw-r--r--  1 gpatient  staff  136497 Jul 11 14:54 movie_urls.pkl\r\n"
     ]
    }
   ],
   "source": [
    "with open('movie_urls.pkl', 'wb') as picklefile:\n",
    "    pkl.dump(url_list, picklefile)\n",
    "    \n",
    "! ls -l movie_urls.pkl"
   ]
  },
  {
   "cell_type": "code",
   "execution_count": 12,
   "metadata": {
    "collapsed": true
   },
   "outputs": [],
   "source": [
    "#parse for features\n",
    "features=['Name','UserRating','Budget','Genres','ReleaseDate','Runtime','Directors','Writers',\n",
    "          'Stars','ContentRating','ProductionCo']\n",
    "\n",
    "def get_movie_features(url):\n",
    "    movie_soup = BeautifulSoup(requests.get(url).text, 'lxml')\n",
    "    re_features = [re.compile(x,re.IGNORECASE) for x in features]\n",
    "    movie_series=pd.Series(index=features)\n",
    "    details_soup=movie_soup.find(id='titleDetails')\n",
    "    summary_soup=movie_soup.find(class_='plot_summary_wrapper')\n",
    "    \n",
    "    try:\n",
    "        movie_series['Name']=movie_soup.find(itemprop=re_features[0]).text.split('(')[0].strip()\n",
    "    #name has extra items\n",
    "    \n",
    "        movie_series['UserRating']=movie_soup.find(itemprop='ratingValue').text\n",
    "        \n",
    "        if not details_soup.find(text=re_features[2]):\n",
    "            movie_series['Budget']=0\n",
    "        else:\n",
    "            movie_series['Budget']=details_soup.find(text=re_features[2]).find_parent().find_parent().text\n",
    "            movie_series['Budget']=movie_series['Budget'].split(':')[1].strip().split(' ')[0].replace('$','').replace(',','').replace('€','')\n",
    "           \n",
    "        movie_series['Genres']=[]\n",
    "        if movie_soup.find(text=re_features[3]):\n",
    "            genre_soup=movie_soup.find(text=re_features[3]).find_parent().find_parent()\n",
    "            movie_series['Genres']=[]\n",
    "            for genre in genre_soup.find_all('a'):\n",
    "                movie_series['Genres'].append(genre.text)\n",
    "            \n",
    "        if details_soup.find(text=re.compile('Release Date',re.IGNORECASE)):\n",
    "            movie_series['ReleaseDate']=details_soup.find(text=re.compile('Release Date',re.IGNORECASE)).find_parent().find_parent().text\n",
    "            movie_series['ReleaseDate']=movie_series['ReleaseDate'].split(':')[1].split('(')[0].strip()\n",
    "        \n",
    "        if details_soup.find(text=re_features[5]):\n",
    "            movie_series['Runtime']=details_soup.find(text=re_features[5]).find_parent().findNextSibling().text.split(' ')[0]\n",
    "        \n",
    "        movie_series['Directors']=[]\n",
    "        director_soup=summary_soup.find(itemprop='director').find_parent()\n",
    "        for director in director_soup.find_all(itemprop='name'):\n",
    "            movie_series['Directors'].append(director.text)\n",
    "        \n",
    "        movie_series['Writers']=[]\n",
    "        if summary_soup.find(itemprop='creator'):\n",
    "            writer_soup=summary_soup.find(itemprop='creator').find_parent()\n",
    "            for writer in writer_soup.find_all(itemprop='name'):\n",
    "                movie_series['Writers'].append(writer.text)\n",
    "        \n",
    "        movie_series['Stars']=[]\n",
    "        if summary_soup.find(itemprop='actors'):\n",
    "            star_soup=summary_soup.find(itemprop='actors').find_parent()\n",
    "            for star in star_soup.find_all(itemprop='name'):\n",
    "                movie_series['Stars'].append(star.text)\n",
    "                \n",
    "        if not movie_soup.find(class_='title_wrapper').find(itemprop='contentRating'):\n",
    "            movie_series['ContentRating']='NOT RATED'\n",
    "        else:\n",
    "            movie_series['ContentRating']=movie_soup.find(class_='title_wrapper').find(itemprop='contentRating')['content']\n",
    "        \n",
    "        movie_series['ProductionCo']=[]\n",
    "        if details_soup.find(text='Production Co:'):\n",
    "            production_soup=details_soup.find(text='Production Co:').find_parent().find_parent()\n",
    "            for co in production_soup.find_all(itemprop='name'):\n",
    "                movie_series['ProductionCo'].append(co.text)\n",
    "        \n",
    "    except:\n",
    "        print('generic problem with url: {}'.format(url))\n",
    "        print(sys.exc_info())\n",
    "    return(movie_series)"
   ]
  },
  {
   "cell_type": "code",
   "execution_count": 13,
   "metadata": {},
   "outputs": [
    {
     "data": {
      "text/plain": [
       "Name                                                         Logan\n",
       "UserRating                                                     8.2\n",
       "Budget                                                    97000000\n",
       "Genres                       [ Action,  Drama,  Sci-Fi,  Thriller]\n",
       "ReleaseDate                                           3 March 2017\n",
       "Runtime                                                        137\n",
       "Directors                                          [James Mangold]\n",
       "Writers                               [James Mangold, Scott Frank]\n",
       "Stars                  [Hugh Jackman, Patrick Stewart, Dafne Keen]\n",
       "ContentRating                                                    R\n",
       "ProductionCo     [Donners' Company, Kinberg Genre, Marvel Enter...\n",
       "dtype: object"
      ]
     },
     "execution_count": 13,
     "metadata": {},
     "output_type": "execute_result"
    }
   ],
   "source": [
    "get_movie_features('http://www.imdb.com/title/tt3315342/')"
   ]
  },
  {
   "cell_type": "code",
   "execution_count": 14,
   "metadata": {},
   "outputs": [
    {
     "data": {
      "text/plain": [
       "2250"
      ]
     },
     "execution_count": 14,
     "metadata": {},
     "output_type": "execute_result"
    }
   ],
   "source": [
    "len(url_list)"
   ]
  },
  {
   "cell_type": "code",
   "execution_count": 15,
   "metadata": {},
   "outputs": [
    {
     "data": {
      "text/plain": [
       "['Parantez Yapim']"
      ]
     },
     "execution_count": 15,
     "metadata": {},
     "output_type": "execute_result"
    }
   ],
   "source": [
    "#testing get_movie_features()\n",
    "url = 'http://www.imdb.com/title/tt4458206/'\n",
    "get_movie_features(url).loc['ProductionCo']"
   ]
  },
  {
   "cell_type": "code",
   "execution_count": 17,
   "metadata": {
    "scrolled": true
   },
   "outputs": [
    {
     "name": "stdout",
     "output_type": "stream",
     "text": [
      "generic problem with url: http://www.imdb.com/title/tt0806010/?ref_=adv_li_tt\n",
      "(<class 'ValueError'>, ValueError('setting an array element with a sequence.',), <traceback object at 0x11027a108>)\n",
      "250\n",
      "500\n",
      "750\n",
      "1000\n",
      "1250\n",
      "1500\n",
      "1750\n",
      "2000\n",
      "generic problem with url: http://www.imdb.com/title/tt6290024/?ref_=adv_li_tt\n",
      "(<class 'AttributeError'>, AttributeError(\"'NoneType' object has no attribute 'find_parent'\",), <traceback object at 0x10ca108c8>)\n",
      "generic problem with url: http://www.imdb.com/title/tt6659488/?ref_=adv_li_tt\n",
      "(<class 'AttributeError'>, AttributeError(\"'NoneType' object has no attribute 'find_parent'\",), <traceback object at 0x10bf89e08>)\n",
      "generic problem with url: http://www.imdb.com/title/tt6380508/?ref_=adv_li_tt\n",
      "(<class 'AttributeError'>, AttributeError(\"'NoneType' object has no attribute 'find_parent'\",), <traceback object at 0x10f0fbd08>)\n",
      "generic problem with url: http://www.imdb.com/title/tt5265738/?ref_=adv_li_tt\n",
      "(<class 'AttributeError'>, AttributeError(\"'NoneType' object has no attribute 'find_parent'\",), <traceback object at 0x10c84cec8>)\n",
      "generic problem with url: http://www.imdb.com/title/tt4274820/?ref_=adv_li_tt\n",
      "(<class 'AttributeError'>, AttributeError(\"'NoneType' object has no attribute 'find_parent'\",), <traceback object at 0x10e56ed88>)\n",
      "2250\n"
     ]
    },
    {
     "data": {
      "text/html": [
       "<div>\n",
       "<style>\n",
       "    .dataframe thead tr:only-child th {\n",
       "        text-align: right;\n",
       "    }\n",
       "\n",
       "    .dataframe thead th {\n",
       "        text-align: left;\n",
       "    }\n",
       "\n",
       "    .dataframe tbody tr th {\n",
       "        vertical-align: top;\n",
       "    }\n",
       "</style>\n",
       "<table border=\"1\" class=\"dataframe\">\n",
       "  <thead>\n",
       "    <tr style=\"text-align: right;\">\n",
       "      <th></th>\n",
       "      <th>Name</th>\n",
       "      <th>UserRating</th>\n",
       "      <th>Budget</th>\n",
       "      <th>Genres</th>\n",
       "      <th>ReleaseDate</th>\n",
       "      <th>Runtime</th>\n",
       "      <th>Directors</th>\n",
       "      <th>Writers</th>\n",
       "      <th>Stars</th>\n",
       "      <th>ContentRating</th>\n",
       "      <th>ProductionCo</th>\n",
       "    </tr>\n",
       "  </thead>\n",
       "  <tbody>\n",
       "    <tr>\n",
       "      <th>0</th>\n",
       "      <td>Disaster Movie</td>\n",
       "      <td>1.9</td>\n",
       "      <td>20000000</td>\n",
       "      <td>[ Comedy]</td>\n",
       "      <td>29 August 2008</td>\n",
       "      <td>87</td>\n",
       "      <td>[Jason Friedberg, Aaron Seltzer]</td>\n",
       "      <td>[Jason Friedberg, Aaron Seltzer]</td>\n",
       "      <td>[Carmen Electra, Vanessa Lachey, Nicole Parker]</td>\n",
       "      <td>PG-13</td>\n",
       "      <td>[Lionsgate, Grosvenor Park Media, 3 in the Box]</td>\n",
       "    </tr>\n",
       "    <tr>\n",
       "      <th>1</th>\n",
       "      <td>Reis</td>\n",
       "      <td>1.9</td>\n",
       "      <td>8000000</td>\n",
       "      <td>[ Biography,  Drama]</td>\n",
       "      <td>3 March 2017</td>\n",
       "      <td>108</td>\n",
       "      <td>[Hüdaverdi Yavuz]</td>\n",
       "      <td>[Murat Özdil]</td>\n",
       "      <td>[Orhan Aydin, Özlem Balci, Volkan Basaran]</td>\n",
       "      <td>NOT RATED</td>\n",
       "      <td>[Kafkasör Film Akademisi]</td>\n",
       "    </tr>\n",
       "    <tr>\n",
       "      <th>2</th>\n",
       "      <td>The Hottie &amp; the Nottie</td>\n",
       "      <td>1.9</td>\n",
       "      <td>9000000</td>\n",
       "      <td>[ Comedy,  Romance]</td>\n",
       "      <td>21 February 2008</td>\n",
       "      <td>91</td>\n",
       "      <td>[Tom Putnam]</td>\n",
       "      <td>[Heidi Ferrer]</td>\n",
       "      <td>[Paris Hilton, Joel David Moore, Christine Lakin]</td>\n",
       "      <td>PG-13</td>\n",
       "      <td>[Purple Pictures, Adrenalina Films, Nevinny / ...</td>\n",
       "    </tr>\n",
       "    <tr>\n",
       "      <th>3</th>\n",
       "      <td>House of the Dead</td>\n",
       "      <td>2.0</td>\n",
       "      <td>7000000</td>\n",
       "      <td>[ Action,  Adventure,  Horror]</td>\n",
       "      <td>10 October 2003</td>\n",
       "      <td>90</td>\n",
       "      <td>[Uwe Boll]</td>\n",
       "      <td>[Mark A. Altman, Dan Bates]</td>\n",
       "      <td>[Jonathan Cherry, Tyron Leitso, Clint Howard]</td>\n",
       "      <td>R</td>\n",
       "      <td>[Boll Kino Beteiligungs GmbH &amp; Co. KG, Mindfir...</td>\n",
       "    </tr>\n",
       "    <tr>\n",
       "      <th>4</th>\n",
       "      <td>Manos: The Hands of Fate</td>\n",
       "      <td>1.9</td>\n",
       "      <td>19000</td>\n",
       "      <td>[ Horror]</td>\n",
       "      <td>15 November 1966</td>\n",
       "      <td>70</td>\n",
       "      <td>[Harold P. Warren]</td>\n",
       "      <td>[Harold P. Warren]</td>\n",
       "      <td>[Tom Neyman, John Reynolds, Diane Adelson]</td>\n",
       "      <td>NOT RATED</td>\n",
       "      <td>[Norm-Iris, Sun City Films]</td>\n",
       "    </tr>\n",
       "  </tbody>\n",
       "</table>\n",
       "</div>"
      ],
      "text/plain": [
       "                       Name UserRating    Budget  \\\n",
       "0            Disaster Movie        1.9  20000000   \n",
       "1                      Reis        1.9   8000000   \n",
       "2   The Hottie & the Nottie        1.9   9000000   \n",
       "3         House of the Dead        2.0   7000000   \n",
       "4  Manos: The Hands of Fate        1.9     19000   \n",
       "\n",
       "                           Genres       ReleaseDate Runtime  \\\n",
       "0                       [ Comedy]    29 August 2008      87   \n",
       "1            [ Biography,  Drama]      3 March 2017     108   \n",
       "2             [ Comedy,  Romance]  21 February 2008      91   \n",
       "3  [ Action,  Adventure,  Horror]   10 October 2003      90   \n",
       "4                       [ Horror]  15 November 1966      70   \n",
       "\n",
       "                          Directors                           Writers  \\\n",
       "0  [Jason Friedberg, Aaron Seltzer]  [Jason Friedberg, Aaron Seltzer]   \n",
       "1                 [Hüdaverdi Yavuz]                     [Murat Özdil]   \n",
       "2                      [Tom Putnam]                    [Heidi Ferrer]   \n",
       "3                        [Uwe Boll]       [Mark A. Altman, Dan Bates]   \n",
       "4                [Harold P. Warren]                [Harold P. Warren]   \n",
       "\n",
       "                                               Stars ContentRating  \\\n",
       "0    [Carmen Electra, Vanessa Lachey, Nicole Parker]         PG-13   \n",
       "1         [Orhan Aydin, Özlem Balci, Volkan Basaran]     NOT RATED   \n",
       "2  [Paris Hilton, Joel David Moore, Christine Lakin]         PG-13   \n",
       "3      [Jonathan Cherry, Tyron Leitso, Clint Howard]             R   \n",
       "4         [Tom Neyman, John Reynolds, Diane Adelson]     NOT RATED   \n",
       "\n",
       "                                        ProductionCo  \n",
       "0    [Lionsgate, Grosvenor Park Media, 3 in the Box]  \n",
       "1                          [Kafkasör Film Akademisi]  \n",
       "2  [Purple Pictures, Adrenalina Films, Nevinny / ...  \n",
       "3  [Boll Kino Beteiligungs GmbH & Co. KG, Mindfir...  \n",
       "4                        [Norm-Iris, Sun City Films]  "
      ]
     },
     "execution_count": 17,
     "metadata": {},
     "output_type": "execute_result"
    }
   ],
   "source": [
    "#super slow crawl over everything\n",
    "#needs optimization badly\n",
    "check_in=250\n",
    "scrape_max=len(url_list)+1\n",
    "movies_df=pd.DataFrame(columns=features)\n",
    "i = 0\n",
    "for url in url_list:\n",
    "    i +=1\n",
    "    if i%check_in==0:\n",
    "        print(i)\n",
    "    if i > scrape_max:\n",
    "        print('scraping too many qq')\n",
    "        break\n",
    "    try:\n",
    "        cur_movie=get_movie_features(url)\n",
    "        movies_df=movies_df.append(cur_movie,ignore_index=True)\n",
    "    except:\n",
    "        print('problem with: {}'.format(url))\n",
    "movies_df.head()"
   ]
  },
  {
   "cell_type": "code",
   "execution_count": null,
   "metadata": {
    "collapsed": true
   },
   "outputs": [],
   "source": []
  },
  {
   "cell_type": "code",
   "execution_count": 19,
   "metadata": {},
   "outputs": [
    {
     "name": "stdout",
     "output_type": "stream",
     "text": [
      "-rw-r--r--  1 gpatient  staff  743861 Jul 10 17:17 movie_data.pkl\r\n"
     ]
    }
   ],
   "source": [
    "movies_df.to_pickle('movie_data.pkl')\n",
    "    \n",
    "! ls -l movie_data.pkl"
   ]
  },
  {
   "cell_type": "code",
   "execution_count": 18,
   "metadata": {},
   "outputs": [
    {
     "data": {
      "text/plain": [
       "2250"
      ]
     },
     "execution_count": 18,
     "metadata": {},
     "output_type": "execute_result"
    }
   ],
   "source": [
    "len(movies_df)"
   ]
  },
  {
   "cell_type": "code",
   "execution_count": null,
   "metadata": {
    "collapsed": true
   },
   "outputs": [],
   "source": []
  }
 ],
 "metadata": {
  "kernelspec": {
   "display_name": "Python 3",
   "language": "python",
   "name": "python3"
  },
  "language_info": {
   "codemirror_mode": {
    "name": "ipython",
    "version": 3
   },
   "file_extension": ".py",
   "mimetype": "text/x-python",
   "name": "python",
   "nbconvert_exporter": "python",
   "pygments_lexer": "ipython3",
   "version": "3.6.1"
  }
 },
 "nbformat": 4,
 "nbformat_minor": 2
}
